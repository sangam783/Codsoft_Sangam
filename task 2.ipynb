{
  "metadata": {
    "language_info": {
      "codemirror_mode": {
        "name": "python",
        "version": 3
      },
      "file_extension": ".py",
      "mimetype": "text/x-python",
      "name": "python",
      "nbconvert_exporter": "python",
      "pygments_lexer": "ipython3",
      "version": "3.8"
    },
    "kernelspec": {
      "name": "python",
      "display_name": "Python (Pyodide)",
      "language": "python"
    }
  },
  "nbformat_minor": 4,
  "nbformat": 4,
  "cells": [
    {
      "cell_type": "markdown",
      "source": "IMPORTING LIBRARIES",
      "metadata": {}
    },
    {
      "cell_type": "code",
      "source": "import numpy as np \nimport pandas as pd\nimport matplotlib.pyplot as plt\n%matplotlib inline",
      "metadata": {
        "trusted": true
      },
      "execution_count": 2,
      "outputs": []
    },
    {
      "cell_type": "markdown",
      "source": "LOADING DATA",
      "metadata": {}
    },
    {
      "cell_type": "code",
      "source": "mdata=pd.read_csv('movies.dat', sep = '::', engine='python',encoding=\"latin-1\")\nmdata",
      "metadata": {
        "trusted": true
      },
      "execution_count": 3,
      "outputs": [
        {
          "execution_count": 3,
          "output_type": "execute_result",
          "data": {
            "text/plain": "         1                    Toy Story (1995)   Animation|Children's|Comedy\n0        2                      Jumanji (1995)  Adventure|Children's|Fantasy\n1        3             Grumpier Old Men (1995)                Comedy|Romance\n2        4            Waiting to Exhale (1995)                  Comedy|Drama\n3        5  Father of the Bride Part II (1995)                        Comedy\n4        6                         Heat (1995)         Action|Crime|Thriller\n...    ...                                 ...                           ...\n3877  3948             Meet the Parents (2000)                        Comedy\n3878  3949          Requiem for a Dream (2000)                         Drama\n3879  3950                    Tigerland (2000)                         Drama\n3880  3951             Two Family House (2000)                         Drama\n3881  3952               Contender, The (2000)                Drama|Thriller\n\n[3882 rows x 3 columns]",
            "text/html": "<div>\n<style scoped>\n    .dataframe tbody tr th:only-of-type {\n        vertical-align: middle;\n    }\n\n    .dataframe tbody tr th {\n        vertical-align: top;\n    }\n\n    .dataframe thead th {\n        text-align: right;\n    }\n</style>\n<table border=\"1\" class=\"dataframe\">\n  <thead>\n    <tr style=\"text-align: right;\">\n      <th></th>\n      <th>1</th>\n      <th>Toy Story (1995)</th>\n      <th>Animation|Children's|Comedy</th>\n    </tr>\n  </thead>\n  <tbody>\n    <tr>\n      <th>0</th>\n      <td>2</td>\n      <td>Jumanji (1995)</td>\n      <td>Adventure|Children's|Fantasy</td>\n    </tr>\n    <tr>\n      <th>1</th>\n      <td>3</td>\n      <td>Grumpier Old Men (1995)</td>\n      <td>Comedy|Romance</td>\n    </tr>\n    <tr>\n      <th>2</th>\n      <td>4</td>\n      <td>Waiting to Exhale (1995)</td>\n      <td>Comedy|Drama</td>\n    </tr>\n    <tr>\n      <th>3</th>\n      <td>5</td>\n      <td>Father of the Bride Part II (1995)</td>\n      <td>Comedy</td>\n    </tr>\n    <tr>\n      <th>4</th>\n      <td>6</td>\n      <td>Heat (1995)</td>\n      <td>Action|Crime|Thriller</td>\n    </tr>\n    <tr>\n      <th>...</th>\n      <td>...</td>\n      <td>...</td>\n      <td>...</td>\n    </tr>\n    <tr>\n      <th>3877</th>\n      <td>3948</td>\n      <td>Meet the Parents (2000)</td>\n      <td>Comedy</td>\n    </tr>\n    <tr>\n      <th>3878</th>\n      <td>3949</td>\n      <td>Requiem for a Dream (2000)</td>\n      <td>Drama</td>\n    </tr>\n    <tr>\n      <th>3879</th>\n      <td>3950</td>\n      <td>Tigerland (2000)</td>\n      <td>Drama</td>\n    </tr>\n    <tr>\n      <th>3880</th>\n      <td>3951</td>\n      <td>Two Family House (2000)</td>\n      <td>Drama</td>\n    </tr>\n    <tr>\n      <th>3881</th>\n      <td>3952</td>\n      <td>Contender, The (2000)</td>\n      <td>Drama|Thriller</td>\n    </tr>\n  </tbody>\n</table>\n<p>3882 rows × 3 columns</p>\n</div>"
          },
          "metadata": {}
        }
      ]
    },
    {
      "cell_type": "code",
      "source": "mdata.columns =['MovieIDs','MovieName','Category']\nmdata.dropna(inplace=True)\nmdata.head()",
      "metadata": {
        "trusted": true
      },
      "execution_count": 10,
      "outputs": [
        {
          "execution_count": 10,
          "output_type": "execute_result",
          "data": {
            "text/plain": "   MovieIDs                           MovieName                      Category\n0         2                      Jumanji (1995)  Adventure|Children's|Fantasy\n1         3             Grumpier Old Men (1995)                Comedy|Romance\n2         4            Waiting to Exhale (1995)                  Comedy|Drama\n3         5  Father of the Bride Part II (1995)                        Comedy\n4         6                         Heat (1995)         Action|Crime|Thriller",
            "text/html": "<div>\n<style scoped>\n    .dataframe tbody tr th:only-of-type {\n        vertical-align: middle;\n    }\n\n    .dataframe tbody tr th {\n        vertical-align: top;\n    }\n\n    .dataframe thead th {\n        text-align: right;\n    }\n</style>\n<table border=\"1\" class=\"dataframe\">\n  <thead>\n    <tr style=\"text-align: right;\">\n      <th></th>\n      <th>MovieIDs</th>\n      <th>MovieName</th>\n      <th>Category</th>\n    </tr>\n  </thead>\n  <tbody>\n    <tr>\n      <th>0</th>\n      <td>2</td>\n      <td>Jumanji (1995)</td>\n      <td>Adventure|Children's|Fantasy</td>\n    </tr>\n    <tr>\n      <th>1</th>\n      <td>3</td>\n      <td>Grumpier Old Men (1995)</td>\n      <td>Comedy|Romance</td>\n    </tr>\n    <tr>\n      <th>2</th>\n      <td>4</td>\n      <td>Waiting to Exhale (1995)</td>\n      <td>Comedy|Drama</td>\n    </tr>\n    <tr>\n      <th>3</th>\n      <td>5</td>\n      <td>Father of the Bride Part II (1995)</td>\n      <td>Comedy</td>\n    </tr>\n    <tr>\n      <th>4</th>\n      <td>6</td>\n      <td>Heat (1995)</td>\n      <td>Action|Crime|Thriller</td>\n    </tr>\n  </tbody>\n</table>\n</div>"
          },
          "metadata": {}
        }
      ]
    },
    {
      "cell_type": "code",
      "source": "rdata = pd.read_csv(\"ratings[1].dat\",sep='::', engine='python')\nrdata",
      "metadata": {
        "trusted": true
      },
      "execution_count": 12,
      "outputs": [
        {
          "execution_count": 12,
          "output_type": "execute_result",
          "data": {
            "text/plain": "        916  2717  4  957459853\n0      5916  3375  3  957460390\n1      5916  2719  1  957459914\n2      5916  1779  2  957460621\n3      5916   164  3  957460823\n4      5916   165  3  957461345\n...     ...   ... ..        ...\n19267  6040  1091  1  956716541\n19268  6040  1094  5  956704887\n19269  6040   562  5  956704746\n19270  6040  1096  4  956715648\n19271  6040  1097  4  956715569\n\n[19272 rows x 4 columns]",
            "text/html": "<div>\n<style scoped>\n    .dataframe tbody tr th:only-of-type {\n        vertical-align: middle;\n    }\n\n    .dataframe tbody tr th {\n        vertical-align: top;\n    }\n\n    .dataframe thead th {\n        text-align: right;\n    }\n</style>\n<table border=\"1\" class=\"dataframe\">\n  <thead>\n    <tr style=\"text-align: right;\">\n      <th></th>\n      <th>916</th>\n      <th>2717</th>\n      <th>4</th>\n      <th>957459853</th>\n    </tr>\n  </thead>\n  <tbody>\n    <tr>\n      <th>0</th>\n      <td>5916</td>\n      <td>3375</td>\n      <td>3</td>\n      <td>957460390</td>\n    </tr>\n    <tr>\n      <th>1</th>\n      <td>5916</td>\n      <td>2719</td>\n      <td>1</td>\n      <td>957459914</td>\n    </tr>\n    <tr>\n      <th>2</th>\n      <td>5916</td>\n      <td>1779</td>\n      <td>2</td>\n      <td>957460621</td>\n    </tr>\n    <tr>\n      <th>3</th>\n      <td>5916</td>\n      <td>164</td>\n      <td>3</td>\n      <td>957460823</td>\n    </tr>\n    <tr>\n      <th>4</th>\n      <td>5916</td>\n      <td>165</td>\n      <td>3</td>\n      <td>957461345</td>\n    </tr>\n    <tr>\n      <th>...</th>\n      <td>...</td>\n      <td>...</td>\n      <td>...</td>\n      <td>...</td>\n    </tr>\n    <tr>\n      <th>19267</th>\n      <td>6040</td>\n      <td>1091</td>\n      <td>1</td>\n      <td>956716541</td>\n    </tr>\n    <tr>\n      <th>19268</th>\n      <td>6040</td>\n      <td>1094</td>\n      <td>5</td>\n      <td>956704887</td>\n    </tr>\n    <tr>\n      <th>19269</th>\n      <td>6040</td>\n      <td>562</td>\n      <td>5</td>\n      <td>956704746</td>\n    </tr>\n    <tr>\n      <th>19270</th>\n      <td>6040</td>\n      <td>1096</td>\n      <td>4</td>\n      <td>956715648</td>\n    </tr>\n    <tr>\n      <th>19271</th>\n      <td>6040</td>\n      <td>1097</td>\n      <td>4</td>\n      <td>956715569</td>\n    </tr>\n  </tbody>\n</table>\n<p>19272 rows × 4 columns</p>\n</div>"
          },
          "metadata": {}
        }
      ]
    },
    {
      "cell_type": "code",
      "source": "rdata.columns =['ID','MovieID','Ratings','TimeStamp']\nrdata.dropna(inplace=True)\nrdata.head()",
      "metadata": {
        "trusted": true
      },
      "execution_count": 13,
      "outputs": [
        {
          "execution_count": 13,
          "output_type": "execute_result",
          "data": {
            "text/plain": "     ID  MovieID  Ratings  TimeStamp\n0  5916     3375        3  957460390\n1  5916     2719        1  957459914\n2  5916     1779        2  957460621\n3  5916      164        3  957460823\n4  5916      165        3  957461345",
            "text/html": "<div>\n<style scoped>\n    .dataframe tbody tr th:only-of-type {\n        vertical-align: middle;\n    }\n\n    .dataframe tbody tr th {\n        vertical-align: top;\n    }\n\n    .dataframe thead th {\n        text-align: right;\n    }\n</style>\n<table border=\"1\" class=\"dataframe\">\n  <thead>\n    <tr style=\"text-align: right;\">\n      <th></th>\n      <th>ID</th>\n      <th>MovieID</th>\n      <th>Ratings</th>\n      <th>TimeStamp</th>\n    </tr>\n  </thead>\n  <tbody>\n    <tr>\n      <th>0</th>\n      <td>5916</td>\n      <td>3375</td>\n      <td>3</td>\n      <td>957460390</td>\n    </tr>\n    <tr>\n      <th>1</th>\n      <td>5916</td>\n      <td>2719</td>\n      <td>1</td>\n      <td>957459914</td>\n    </tr>\n    <tr>\n      <th>2</th>\n      <td>5916</td>\n      <td>1779</td>\n      <td>2</td>\n      <td>957460621</td>\n    </tr>\n    <tr>\n      <th>3</th>\n      <td>5916</td>\n      <td>164</td>\n      <td>3</td>\n      <td>957460823</td>\n    </tr>\n    <tr>\n      <th>4</th>\n      <td>5916</td>\n      <td>165</td>\n      <td>3</td>\n      <td>957461345</td>\n    </tr>\n  </tbody>\n</table>\n</div>"
          },
          "metadata": {}
        }
      ]
    },
    {
      "cell_type": "code",
      "source": "udata = pd.read_csv(\"users.dat\",sep='::',engine='python')",
      "metadata": {
        "trusted": true
      },
      "execution_count": 28,
      "outputs": []
    },
    {
      "cell_type": "code",
      "source": "udata",
      "metadata": {
        "trusted": true
      },
      "execution_count": 29,
      "outputs": [
        {
          "execution_count": 29,
          "output_type": "execute_result",
          "data": {
            "text/plain": "         1  F  1.1  10  48067\n0        2  M   56  16  70072\n1        3  M   25  15  55117\n2        4  M   45   7  02460\n3        5  M   25  20  55455\n4        6  F   50   9  55117\n...    ... ..  ...  ..    ...\n6034  6036  F   25  15  32603\n6035  6037  F   45   1  76006\n6036  6038  F   56   1  14706\n6037  6039  F   45   0  01060\n6038  6040  M   25   6  11106\n\n[6039 rows x 5 columns]",
            "text/html": "<div>\n<style scoped>\n    .dataframe tbody tr th:only-of-type {\n        vertical-align: middle;\n    }\n\n    .dataframe tbody tr th {\n        vertical-align: top;\n    }\n\n    .dataframe thead th {\n        text-align: right;\n    }\n</style>\n<table border=\"1\" class=\"dataframe\">\n  <thead>\n    <tr style=\"text-align: right;\">\n      <th></th>\n      <th>1</th>\n      <th>F</th>\n      <th>1.1</th>\n      <th>10</th>\n      <th>48067</th>\n    </tr>\n  </thead>\n  <tbody>\n    <tr>\n      <th>0</th>\n      <td>2</td>\n      <td>M</td>\n      <td>56</td>\n      <td>16</td>\n      <td>70072</td>\n    </tr>\n    <tr>\n      <th>1</th>\n      <td>3</td>\n      <td>M</td>\n      <td>25</td>\n      <td>15</td>\n      <td>55117</td>\n    </tr>\n    <tr>\n      <th>2</th>\n      <td>4</td>\n      <td>M</td>\n      <td>45</td>\n      <td>7</td>\n      <td>02460</td>\n    </tr>\n    <tr>\n      <th>3</th>\n      <td>5</td>\n      <td>M</td>\n      <td>25</td>\n      <td>20</td>\n      <td>55455</td>\n    </tr>\n    <tr>\n      <th>4</th>\n      <td>6</td>\n      <td>F</td>\n      <td>50</td>\n      <td>9</td>\n      <td>55117</td>\n    </tr>\n    <tr>\n      <th>...</th>\n      <td>...</td>\n      <td>...</td>\n      <td>...</td>\n      <td>...</td>\n      <td>...</td>\n    </tr>\n    <tr>\n      <th>6034</th>\n      <td>6036</td>\n      <td>F</td>\n      <td>25</td>\n      <td>15</td>\n      <td>32603</td>\n    </tr>\n    <tr>\n      <th>6035</th>\n      <td>6037</td>\n      <td>F</td>\n      <td>45</td>\n      <td>1</td>\n      <td>76006</td>\n    </tr>\n    <tr>\n      <th>6036</th>\n      <td>6038</td>\n      <td>F</td>\n      <td>56</td>\n      <td>1</td>\n      <td>14706</td>\n    </tr>\n    <tr>\n      <th>6037</th>\n      <td>6039</td>\n      <td>F</td>\n      <td>45</td>\n      <td>0</td>\n      <td>01060</td>\n    </tr>\n    <tr>\n      <th>6038</th>\n      <td>6040</td>\n      <td>M</td>\n      <td>25</td>\n      <td>6</td>\n      <td>11106</td>\n    </tr>\n  </tbody>\n</table>\n<p>6039 rows × 5 columns</p>\n</div>"
          },
          "metadata": {}
        }
      ]
    },
    {
      "cell_type": "code",
      "source": "udata.columns =['UserID','Gender','Age','Occupation','Zip-code']\nudata.dropna(inplace=True)\nudata.head()",
      "metadata": {
        "trusted": true
      },
      "execution_count": 30,
      "outputs": [
        {
          "execution_count": 30,
          "output_type": "execute_result",
          "data": {
            "text/plain": "   UserID Gender  Age  Occupation Zip-code\n0       2      M   56          16    70072\n1       3      M   25          15    55117\n2       4      M   45           7    02460\n3       5      M   25          20    55455\n4       6      F   50           9    55117",
            "text/html": "<div>\n<style scoped>\n    .dataframe tbody tr th:only-of-type {\n        vertical-align: middle;\n    }\n\n    .dataframe tbody tr th {\n        vertical-align: top;\n    }\n\n    .dataframe thead th {\n        text-align: right;\n    }\n</style>\n<table border=\"1\" class=\"dataframe\">\n  <thead>\n    <tr style=\"text-align: right;\">\n      <th></th>\n      <th>UserID</th>\n      <th>Gender</th>\n      <th>Age</th>\n      <th>Occupation</th>\n      <th>Zip-code</th>\n    </tr>\n  </thead>\n  <tbody>\n    <tr>\n      <th>0</th>\n      <td>2</td>\n      <td>M</td>\n      <td>56</td>\n      <td>16</td>\n      <td>70072</td>\n    </tr>\n    <tr>\n      <th>1</th>\n      <td>3</td>\n      <td>M</td>\n      <td>25</td>\n      <td>15</td>\n      <td>55117</td>\n    </tr>\n    <tr>\n      <th>2</th>\n      <td>4</td>\n      <td>M</td>\n      <td>45</td>\n      <td>7</td>\n      <td>02460</td>\n    </tr>\n    <tr>\n      <th>3</th>\n      <td>5</td>\n      <td>M</td>\n      <td>25</td>\n      <td>20</td>\n      <td>55455</td>\n    </tr>\n    <tr>\n      <th>4</th>\n      <td>6</td>\n      <td>F</td>\n      <td>50</td>\n      <td>9</td>\n      <td>55117</td>\n    </tr>\n  </tbody>\n</table>\n</div>"
          },
          "metadata": {}
        }
      ]
    },
    {
      "cell_type": "markdown",
      "source": "MERGE DATASETS",
      "metadata": {}
    },
    {
      "cell_type": "code",
      "source": "data = pd.concat([mdata,rdata,udata], axis=1)\ndata.head()",
      "metadata": {
        "trusted": true
      },
      "execution_count": 31,
      "outputs": [
        {
          "execution_count": 31,
          "output_type": "execute_result",
          "data": {
            "text/plain": "   MovieIDs                           MovieName                      Category  \\\n0       2.0                      Jumanji (1995)  Adventure|Children's|Fantasy   \n1       3.0             Grumpier Old Men (1995)                Comedy|Romance   \n2       4.0            Waiting to Exhale (1995)                  Comedy|Drama   \n3       5.0  Father of the Bride Part II (1995)                        Comedy   \n4       6.0                         Heat (1995)         Action|Crime|Thriller   \n\n     ID  MovieID  Ratings  TimeStamp  UserID Gender   Age  Occupation Zip-code  \n0  5916     3375        3  957460390     2.0      M  56.0        16.0    70072  \n1  5916     2719        1  957459914     3.0      M  25.0        15.0    55117  \n2  5916     1779        2  957460621     4.0      M  45.0         7.0    02460  \n3  5916      164        3  957460823     5.0      M  25.0        20.0    55455  \n4  5916      165        3  957461345     6.0      F  50.0         9.0    55117  ",
            "text/html": "<div>\n<style scoped>\n    .dataframe tbody tr th:only-of-type {\n        vertical-align: middle;\n    }\n\n    .dataframe tbody tr th {\n        vertical-align: top;\n    }\n\n    .dataframe thead th {\n        text-align: right;\n    }\n</style>\n<table border=\"1\" class=\"dataframe\">\n  <thead>\n    <tr style=\"text-align: right;\">\n      <th></th>\n      <th>MovieIDs</th>\n      <th>MovieName</th>\n      <th>Category</th>\n      <th>ID</th>\n      <th>MovieID</th>\n      <th>Ratings</th>\n      <th>TimeStamp</th>\n      <th>UserID</th>\n      <th>Gender</th>\n      <th>Age</th>\n      <th>Occupation</th>\n      <th>Zip-code</th>\n    </tr>\n  </thead>\n  <tbody>\n    <tr>\n      <th>0</th>\n      <td>2.0</td>\n      <td>Jumanji (1995)</td>\n      <td>Adventure|Children's|Fantasy</td>\n      <td>5916</td>\n      <td>3375</td>\n      <td>3</td>\n      <td>957460390</td>\n      <td>2.0</td>\n      <td>M</td>\n      <td>56.0</td>\n      <td>16.0</td>\n      <td>70072</td>\n    </tr>\n    <tr>\n      <th>1</th>\n      <td>3.0</td>\n      <td>Grumpier Old Men (1995)</td>\n      <td>Comedy|Romance</td>\n      <td>5916</td>\n      <td>2719</td>\n      <td>1</td>\n      <td>957459914</td>\n      <td>3.0</td>\n      <td>M</td>\n      <td>25.0</td>\n      <td>15.0</td>\n      <td>55117</td>\n    </tr>\n    <tr>\n      <th>2</th>\n      <td>4.0</td>\n      <td>Waiting to Exhale (1995)</td>\n      <td>Comedy|Drama</td>\n      <td>5916</td>\n      <td>1779</td>\n      <td>2</td>\n      <td>957460621</td>\n      <td>4.0</td>\n      <td>M</td>\n      <td>45.0</td>\n      <td>7.0</td>\n      <td>02460</td>\n    </tr>\n    <tr>\n      <th>3</th>\n      <td>5.0</td>\n      <td>Father of the Bride Part II (1995)</td>\n      <td>Comedy</td>\n      <td>5916</td>\n      <td>164</td>\n      <td>3</td>\n      <td>957460823</td>\n      <td>5.0</td>\n      <td>M</td>\n      <td>25.0</td>\n      <td>20.0</td>\n      <td>55455</td>\n    </tr>\n    <tr>\n      <th>4</th>\n      <td>6.0</td>\n      <td>Heat (1995)</td>\n      <td>Action|Crime|Thriller</td>\n      <td>5916</td>\n      <td>165</td>\n      <td>3</td>\n      <td>957461345</td>\n      <td>6.0</td>\n      <td>F</td>\n      <td>50.0</td>\n      <td>9.0</td>\n      <td>55117</td>\n    </tr>\n  </tbody>\n</table>\n</div>"
          },
          "metadata": {}
        }
      ]
    },
    {
      "cell_type": "code",
      "source": "data.info()",
      "metadata": {
        "trusted": true
      },
      "execution_count": 59,
      "outputs": [
        {
          "name": "stdout",
          "text": "<class 'pandas.core.frame.DataFrame'>\nRangeIndex: 19272 entries, 0 to 19271\nData columns (total 12 columns):\n #   Column      Non-Null Count  Dtype  \n---  ------      --------------  -----  \n 0   MovieIDs    3882 non-null   float64\n 1   MovieName   3882 non-null   object \n 2   Category    3882 non-null   object \n 3   ID          19272 non-null  int64  \n 4   MovieID     19272 non-null  int64  \n 5   Ratings     19272 non-null  int64  \n 6   TimeStamp   19272 non-null  int64  \n 7   UserID      6039 non-null   float64\n 8   Gender      6039 non-null   object \n 9   Age         6039 non-null   float64\n 10  Occupation  6039 non-null   float64\n 11  Zip-code    6039 non-null   object \ndtypes: float64(4), int64(4), object(4)\nmemory usage: 1.5+ MB\n",
          "output_type": "stream"
        }
      ]
    },
    {
      "cell_type": "markdown",
      "source": "DATA PREPROCESSING",
      "metadata": {}
    },
    {
      "cell_type": "code",
      "source": "data.isnull().sum()",
      "metadata": {
        "trusted": true
      },
      "execution_count": 60,
      "outputs": [
        {
          "execution_count": 60,
          "output_type": "execute_result",
          "data": {
            "text/plain": "MovieIDs      15390\nMovieName     15390\nCategory      15390\nID                0\nMovieID           0\nRatings           0\nTimeStamp         0\nUserID        13233\nGender        13233\nAge           13233\nOccupation    13233\nZip-code      13233\ndtype: int64"
          },
          "metadata": {}
        }
      ]
    },
    {
      "cell_type": "markdown",
      "source": "SPLITING FOR TESTING",
      "metadata": {}
    },
    {
      "cell_type": "code",
      "source": "from sklearn.model_selection import train_test_split\nfrom sklearn.linear_model import LogisticRegression",
      "metadata": {
        "trusted": true
      },
      "execution_count": 16,
      "outputs": []
    },
    {
      "cell_type": "code",
      "source": "first_500 = data[500:]\nfirst_500.dropna(inplace=True)",
      "metadata": {
        "trusted": true
      },
      "execution_count": 33,
      "outputs": [
        {
          "name": "stderr",
          "text": "<ipython-input-33-83e1de577df3>:2: SettingWithCopyWarning: \nA value is trying to be set on a copy of a slice from a DataFrame\n\nSee the caveats in the documentation: https://pandas.pydata.org/pandas-docs/stable/user_guide/indexing.html#returning-a-view-versus-a-copy\n  first_500.dropna(inplace=True)\n",
          "output_type": "stream"
        }
      ]
    },
    {
      "cell_type": "code",
      "source": "features = first_500[['MovieID','Age','Occupation']].values",
      "metadata": {
        "trusted": true
      },
      "execution_count": 34,
      "outputs": []
    },
    {
      "cell_type": "code",
      "source": "labels = first_500[['Ratings']].values",
      "metadata": {
        "trusted": true
      },
      "execution_count": 35,
      "outputs": []
    },
    {
      "cell_type": "code",
      "source": "train, test, train_labels, test_labels = train_test_split(features,labels,test_size=0.33,random_state=42)",
      "metadata": {
        "trusted": true
      },
      "execution_count": 36,
      "outputs": []
    },
    {
      "cell_type": "markdown",
      "source": "Evaluate the model's performance:",
      "metadata": {}
    },
    {
      "cell_type": "code",
      "source": "logreg = LogisticRegression()\nlogreg.fit(train, train_labels)\nY_pred = logreg.predict(test)\nacc_log = round(logreg.score(train, train_labels) * 100, 2)\nacc_log",
      "metadata": {
        "trusted": true
      },
      "execution_count": 45,
      "outputs": [
        {
          "name": "stderr",
          "text": "/lib/python3.11/site-packages/sklearn/utils/validation.py:1143: DataConversionWarning: A column-vector y was passed when a 1d array was expected. Please change the shape of y to (n_samples, ), for example using ravel().\n  y = column_or_1d(y, warn=True)\n/lib/python3.11/site-packages/sklearn/linear_model/_logistic.py:458: ConvergenceWarning: lbfgs failed to converge (status=1):\nSTOP: TOTAL NO. of ITERATIONS REACHED LIMIT.\n\nIncrease the number of iterations (max_iter) or scale the data as shown in:\n    https://scikit-learn.org/stable/modules/preprocessing.html\nPlease also refer to the documentation for alternative solver options:\n    https://scikit-learn.org/stable/modules/linear_model.html#logistic-regression\n  n_iter_i = _check_optimize_result(\n",
          "output_type": "stream"
        },
        {
          "execution_count": 45,
          "output_type": "execute_result",
          "data": {
            "text/plain": "35.67"
          },
          "metadata": {}
        }
      ]
    },
    {
      "cell_type": "code",
      "source": "svc = SVC()\nsvc.fit(train, train_labels)\nY_pred = svc.predict(test)\nacc_svc = round(svc.score(train, train_labels) * 100, 2)\nacc_svc",
      "metadata": {
        "trusted": true
      },
      "execution_count": 43,
      "outputs": [
        {
          "name": "stderr",
          "text": "/lib/python3.11/site-packages/sklearn/utils/validation.py:1143: DataConversionWarning: A column-vector y was passed when a 1d array was expected. Please change the shape of y to (n_samples, ), for example using ravel().\n  y = column_or_1d(y, warn=True)\n",
          "output_type": "stream"
        },
        {
          "execution_count": 43,
          "output_type": "execute_result",
          "data": {
            "text/plain": "35.67"
          },
          "metadata": {}
        }
      ]
    },
    {
      "cell_type": "code",
      "source": "from sklearn.tree import DecisionTreeClassifier",
      "metadata": {
        "trusted": true
      },
      "execution_count": 51,
      "outputs": []
    },
    {
      "cell_type": "code",
      "source": "dt= DecisionTreeClassifier()\ndt.fit(train, train_labels)\nY_pred = dt.predict(test)\nacc_dt = round(dt.score(train, train_labels) * 100, 2)\nacc_dt",
      "metadata": {
        "trusted": true
      },
      "execution_count": 52,
      "outputs": [
        {
          "execution_count": 52,
          "output_type": "execute_result",
          "data": {
            "text/plain": "98.1"
          },
          "metadata": {}
        }
      ]
    },
    {
      "cell_type": "code",
      "source": "models = pd.DataFrame({\n    'Model': ['Logistic Regression','Support Vector Machines','Decision Tree'],\n    'Score': [ acc_log,acc_svc, acc_dt]})\nmodels.sort_values(by='Score', ascending=True)",
      "metadata": {
        "trusted": true
      },
      "execution_count": 54,
      "outputs": [
        {
          "execution_count": 54,
          "output_type": "execute_result",
          "data": {
            "text/plain": "                     Model  Score\n0      Logistic Regression  35.67\n1  Support Vector Machines  35.67\n2            Decision Tree  98.10",
            "text/html": "<div>\n<style scoped>\n    .dataframe tbody tr th:only-of-type {\n        vertical-align: middle;\n    }\n\n    .dataframe tbody tr th {\n        vertical-align: top;\n    }\n\n    .dataframe thead th {\n        text-align: right;\n    }\n</style>\n<table border=\"1\" class=\"dataframe\">\n  <thead>\n    <tr style=\"text-align: right;\">\n      <th></th>\n      <th>Model</th>\n      <th>Score</th>\n    </tr>\n  </thead>\n  <tbody>\n    <tr>\n      <th>0</th>\n      <td>Logistic Regression</td>\n      <td>35.67</td>\n    </tr>\n    <tr>\n      <th>1</th>\n      <td>Support Vector Machines</td>\n      <td>35.67</td>\n    </tr>\n    <tr>\n      <th>2</th>\n      <td>Decision Tree</td>\n      <td>98.10</td>\n    </tr>\n  </tbody>\n</table>\n</div>"
          },
          "metadata": {}
        }
      ]
    },
    {
      "cell_type": "markdown",
      "source": "DATA VISUALIZATION",
      "metadata": {}
    },
    {
      "cell_type": "code",
      "source": "data['Ratings'].value_counts().plot(kind='barh',alpha=0.6,figsize=(7,7))\nplt.show()\n",
      "metadata": {
        "trusted": true
      },
      "execution_count": 55,
      "outputs": [
        {
          "output_type": "display_data",
          "data": {
            "text/plain": "<Figure size 700x700 with 1 Axes>",
            "image/png": "[encoded data removed]"
          },
          "metadata": {}
        }
      ]
    },
    {
      "cell_type": "code",
      "source": "data.Age.plot.hist(bins=25)\nplt.title(\"Distribution of users' ages\")\nplt.ylabel('count of users')\nplt.xlabel('Age')",
      "metadata": {
        "trusted": true
      },
      "execution_count": 57,
      "outputs": [
        {
          "execution_count": 57,
          "output_type": "execute_result",
          "data": {
            "text/plain": "Text(0.5, 0, 'Age')"
          },
          "metadata": {}
        },
        {
          "output_type": "display_data",
          "data": {
            "text/plain": "<Figure size 640x480 with 1 Axes>",
            "image/png": "[encoded data removed]"
          },
          "metadata": {}
        }
      ]
    },
    {
      "cell_type": "code",
      "source": "",
      "metadata": {},
      "execution_count": null,
      "outputs": []
    }
  ]
}